{
  "nbformat": 4,
  "nbformat_minor": 0,
  "metadata": {
    "colab": {
      "provenance": [],
      "authorship_tag": "ABX9TyO5d/mtRhs4qW1b13nnakb1",
      "include_colab_link": true
    },
    "kernelspec": {
      "name": "python3",
      "display_name": "Python 3"
    },
    "language_info": {
      "name": "python"
    }
  },
  "cells": [
    {
      "cell_type": "markdown",
      "metadata": {
        "id": "view-in-github",
        "colab_type": "text"
      },
      "source": [
        "<a href=\"https://colab.research.google.com/github/LuHellerKP/SMA_PUCRS/blob/main/Entrega_%7C_Simulador_para_Rede_de_Filas.ipynb\" target=\"_parent\"><img src=\"https://colab.research.google.com/assets/colab-badge.svg\" alt=\"Open In Colab\"/></a>"
      ]
    },
    {
      "cell_type": "code",
      "source": [
        "import random\n",
        "import yaml\n",
        "from collections import deque\n",
        "\n",
        "class Fila:\n",
        "    def __init__(self, id, servidores, capacidade, tempo_chegada=None, tempo_atendimento=None):\n",
        "        self.id = id\n",
        "        self.servidores = servidores\n",
        "        self.capacidade = capacidade\n",
        "        self.tempo_chegada = tempo_chegada\n",
        "        self.tempo_atendimento = tempo_atendimento\n",
        "        self.clientes = deque()\n",
        "        self.servidores_ocupados = 0\n",
        "        self.clientes_perdidos = 0\n",
        "\n",
        "    def chegada(self, cliente, tempo_atual):\n",
        "        if len(self.clientes) < self.capacidade:\n",
        "            self.clientes.append((cliente, tempo_atual))\n",
        "        else:\n",
        "            self.clientes_perdidos += 1\n",
        "\n",
        "    def atender(self):\n",
        "        if self.servidores_ocupados < self.servidores and len(self.clientes) > 0:\n",
        "            cliente, tempo_chegada = self.clientes.popleft()\n",
        "            tempo_atendimento = random.uniform(*self.tempo_atendimento)\n",
        "            self.servidores_ocupados += 1\n",
        "            return tempo_atendimento\n",
        "        return None\n",
        "\n",
        "    def liberar_servidor(self):\n",
        "        self.servidores_ocupados = max(0, self.servidores_ocupados - 1)\n",
        "\n",
        "class SimuladorRedeFilas:\n",
        "    def __init__(self, filas, roteamento):\n",
        "        self.filas = {fila.id: fila for fila in filas}\n",
        "        self.roteamento = roteamento\n",
        "        self.tempo_simulacao = 0\n",
        "\n",
        "    def simular_cliente(self, fila_atual, cliente):\n",
        "        while True:\n",
        "            fila_atual.liberar_servidor()\n",
        "            tempo_atendimento = fila_atual.atender()\n",
        "\n",
        "            if tempo_atendimento is None:\n",
        "                break\n",
        "\n",
        "            self.tempo_simulacao += tempo_atendimento\n",
        "\n",
        "            proxima_fila = self.definir_proxima_fila(fila_atual.id)\n",
        "            if proxima_fila == \"saida\":\n",
        "                break\n",
        "            else:\n",
        "                self.filas[proxima_fila].chegada(cliente, self.tempo_simulacao)\n",
        "\n",
        "    def definir_proxima_fila(self, fila_id):\n",
        "        destino = random.uniform(0, 1)\n",
        "        for r in self.roteamento[fila_id]:\n",
        "            if destino <= r['probabilidade']:\n",
        "                return r['destino']\n",
        "        return \"saida\"\n",
        "\n",
        "    def executar(self, num_clientes):\n",
        "        for cliente in range(num_clientes):\n",
        "            self.simular_cliente(self.filas[1], cliente)\n",
        "\n",
        "    def relatorio(self):\n",
        "        resultados = {}\n",
        "        for fila in self.filas.values():\n",
        "            resultados[fila.id] = {\n",
        "                'clientes_perdidos': fila.clientes_perdidos,\n",
        "                'tempo_acumulado': self.tempo_simulacao\n",
        "            }\n",
        "        return resultados\n",
        "\n",
        "def carregar_configuracao(arquivo_yaml):\n",
        "    with open(arquivo_yaml, 'r') as file:\n",
        "        config = yaml.safe_load(file)\n",
        "    filas = []\n",
        "    roteamento = {}\n",
        "    for fila_conf in config['filas']:\n",
        "        fila = Fila(\n",
        "            id=fila_conf['id'],\n",
        "            servidores=fila_conf['servidores'],\n",
        "            capacidade=fila_conf['capacidade'],\n",
        "            tempo_chegada=fila_conf.get('tempo_chegada', None),\n",
        "            tempo_atendimento=fila_conf['tempo_atendimento']\n",
        "        )\n",
        "        filas.append(fila)\n",
        "        roteamento[fila_conf['id']] = fila_conf['roteamento']\n",
        "    return filas, roteamento\n",
        "\n",
        "# Carregar arquivo de configuração\n",
        "filas, roteamento = carregar_configuracao('/rede_de_filas.yaml')\n",
        "\n",
        "# Criar simulador\n",
        "simulador = SimuladorRedeFilas(filas, roteamento)\n",
        "\n",
        "# Executar simulação\n",
        "simulador.executar(100000)\n",
        "\n",
        "# Relatório final\n",
        "resultados = simulador.relatorio()\n",
        "print(resultados)\n"
      ],
      "metadata": {
        "colab": {
          "base_uri": "https://localhost:8080/"
        },
        "id": "HVtFxMfbvyry",
        "outputId": "6ab4faec-a3a0-4d22-f16f-6b8d5f848113"
      },
      "execution_count": 17,
      "outputs": [
        {
          "output_type": "stream",
          "name": "stdout",
          "text": [
            "{1: {'clientes_perdidos': 0, 'tempo_acumulado': 0}, 2: {'clientes_perdidos': 0, 'tempo_acumulado': 0}, 3: {'clientes_perdidos': 0, 'tempo_acumulado': 0}}\n"
          ]
        }
      ]
    }
  ]
}