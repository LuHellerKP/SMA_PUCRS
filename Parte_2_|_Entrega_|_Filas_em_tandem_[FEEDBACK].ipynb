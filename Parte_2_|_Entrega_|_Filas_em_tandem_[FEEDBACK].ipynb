{
  "nbformat": 4,
  "nbformat_minor": 0,
  "metadata": {
    "colab": {
      "provenance": [],
      "authorship_tag": "ABX9TyNE3kBTDQqvZkWreK65Alyn",
      "include_colab_link": true
    },
    "kernelspec": {
      "name": "python3",
      "display_name": "Python 3"
    },
    "language_info": {
      "name": "python"
    }
  },
  "cells": [
    {
      "cell_type": "markdown",
      "metadata": {
        "id": "view-in-github",
        "colab_type": "text"
      },
      "source": [
        "<a href=\"https://colab.research.google.com/github/LuHellerKP/SMA_PUCRS/blob/main/Parte_2_%7C_Entrega_%7C_Filas_em_tandem_%5BFEEDBACK%5D.ipynb\" target=\"_parent\"><img src=\"https://colab.research.google.com/assets/colab-badge.svg\" alt=\"Open In Colab\"/></a>"
      ]
    },
    {
      "cell_type": "code",
      "execution_count": 8,
      "metadata": {
        "id": "Rtfcy4WA4Sn_"
      },
      "outputs": [],
      "source": [
        "import random\n",
        "import heapq"
      ]
    },
    {
      "cell_type": "code",
      "source": [
        "# Função para gerar tempos uniformemente distribuídos\n",
        "def gerar_tempo(a, b):\n",
        "    return a + (b - a) * random.random()\n"
      ],
      "metadata": {
        "id": "G_XfFvS04hkr"
      },
      "execution_count": 9,
      "outputs": []
    },
    {
      "cell_type": "code",
      "source": [
        "# Classe para definir um evento (chegada ou saída)\n",
        "class Evento:\n",
        "    def __init__(self, tipo, tempo, fila):\n",
        "        self.tipo = tipo  # 'CHEGADA' ou 'SAIDA'\n",
        "        self.tempo = tempo\n",
        "        self.fila = fila\n",
        "\n",
        "    def __lt__(self, other):\n",
        "        return self.tempo < other.tempo"
      ],
      "metadata": {
        "id": "8r_GYR8J4hiL"
      },
      "execution_count": 10,
      "outputs": []
    },
    {
      "cell_type": "code",
      "source": [
        "# Fila simulada\n",
        "class Fila:\n",
        "    def __init__(self, id, servidores, capacidade, tempo_atendimento, recebe_chegadas=True):\n",
        "        self.id = id\n",
        "        self.servidores = servidores  # Número de servidores\n",
        "        self.capacidade = capacidade  # Capacidade da fila\n",
        "        self.tempo_atendimento = tempo_atendimento  # Intervalo de tempo para atendimento\n",
        "        self.recebe_chegadas = recebe_chegadas  # Se a fila recebe clientes de fora\n",
        "        self.clientes_na_fila = 0\n",
        "        self.servidores_ocupados = 0\n",
        "        self.clientes_perdidos = 0\n",
        "        self.tempo_acumulado = {i: 0 for i in range(capacidade + 1)}  # Tempo acumulado para cada estado da fila"
      ],
      "metadata": {
        "id": "2HEePjf-4hfr"
      },
      "execution_count": 11,
      "outputs": []
    },
    {
      "cell_type": "code",
      "source": [
        "# Simulador de rede de filas em tandem\n",
        "class SimuladorRedeFilas:\n",
        "    def __init__(self, filas):\n",
        "        self.filas = filas  # Lista de filas\n",
        "        self.eventos = []  # Fila de eventos\n",
        "        self.tempo_atual = 0\n",
        "        self.tempo_simulacao = 0\n",
        "\n",
        "    def adicionar_evento(self, tipo, tempo, fila):\n",
        "        heapq.heappush(self.eventos, Evento(tipo, tempo, fila))\n",
        "\n",
        "    def processar_evento(self, evento):\n",
        "        self.tempo_atual = evento.tempo\n",
        "        fila = evento.fila\n",
        "\n",
        "        # Atualizar tempo acumulado\n",
        "        fila.tempo_acumulado[fila.clientes_na_fila] += (self.tempo_atual - self.tempo_simulacao)\n",
        "        self.tempo_simulacao = self.tempo_atual\n",
        "\n",
        "        if evento.tipo == 'CHEGADA':\n",
        "            self.processar_chegada(fila)\n",
        "        elif evento.tipo == 'SAIDA':\n",
        "            self.processar_saida(fila)\n",
        "\n",
        "    def processar_chegada(self, fila):\n",
        "        if fila.clientes_na_fila < fila.capacidade:\n",
        "            fila.clientes_na_fila += 1\n",
        "            if fila.servidores_ocupados < fila.servidores:\n",
        "                fila.servidores_ocupados += 1\n",
        "                tempo_atendimento = gerar_tempo(*fila.tempo_atendimento)\n",
        "                self.adicionar_evento('SAIDA', self.tempo_atual + tempo_atendimento, fila)\n",
        "            # Se a fila recebe chegadas externas, agenda próxima chegada\n",
        "            if fila.recebe_chegadas:\n",
        "                tempo_chegada = gerar_tempo(1.0, 4.0)\n",
        "                self.adicionar_evento('CHEGADA', self.tempo_atual + tempo_chegada, fila)\n",
        "        else:\n",
        "            fila.clientes_perdidos += 1\n",
        "\n",
        "    def processar_saida(self, fila):\n",
        "        if fila.clientes_na_fila > 0:\n",
        "            fila.clientes_na_fila -= 1\n",
        "            fila.servidores_ocupados -= 1\n",
        "            if fila.clientes_na_fila >= fila.servidores_ocupados:\n",
        "                tempo_atendimento = gerar_tempo(*fila.tempo_atendimento)\n",
        "                self.adicionar_evento('SAIDA', self.tempo_atual + tempo_atendimento, fila)\n",
        "\n",
        "        # Se há uma fila seguinte (tandem), cliente vai para a próxima fila\n",
        "        if fila.id == 1:\n",
        "            self.adicionar_evento('CHEGADA', self.tempo_atual, self.filas[1])\n",
        "\n",
        "    def executar(self, num_eventos):\n",
        "        # Inicializa com a primeira chegada na Fila 1\n",
        "        self.adicionar_evento('CHEGADA', 1.5, self.filas[0])\n",
        "\n",
        "        while len(self.eventos) > 0 and num_eventos > 0:\n",
        "            evento = heapq.heappop(self.eventos)\n",
        "            self.processar_evento(evento)\n",
        "            num_eventos -= 1\n",
        "\n",
        "    def relatorio(self):\n",
        "        for fila in self.filas:\n",
        "            print(f\"Fila {fila.id}:\")\n",
        "            print(f\"  Clientes perdidos: {fila.clientes_perdidos}\")\n",
        "            for i in range(fila.capacidade + 1):\n",
        "                probabilidade = fila.tempo_acumulado[i] / self.tempo_simulacao\n",
        "                print(f\"  {i} clientes: {probabilidade:.4f}\")\n",
        "            print()"
      ],
      "metadata": {
        "id": "96PAmivh4hda"
      },
      "execution_count": 12,
      "outputs": []
    },
    {
      "cell_type": "code",
      "source": [
        "# Configuração das filas\n",
        "fila_1 = Fila(id=1, servidores=2, capacidade=3, tempo_atendimento=(3.0, 4.0), recebe_chegadas=True)\n",
        "fila_2 = Fila(id=2, servidores=1, capacidade=5, tempo_atendimento=(2.0, 3.0), recebe_chegadas=False)\n"
      ],
      "metadata": {
        "id": "iJPq_W2L4ha0"
      },
      "execution_count": 13,
      "outputs": []
    },
    {
      "cell_type": "code",
      "source": [
        "# Simulação\n",
        "simulador = SimuladorRedeFilas([fila_1, fila_2])\n",
        "simulador.executar(100000)\n",
        "simulador.relatorio()"
      ],
      "metadata": {
        "colab": {
          "base_uri": "https://localhost:8080/"
        },
        "id": "jDL6iMkw4hYL",
        "outputId": "5c1a503a-4a86-44d6-d06e-4b0acd54138c"
      },
      "execution_count": 14,
      "outputs": [
        {
          "output_type": "stream",
          "name": "stdout",
          "text": [
            "Fila 1:\n",
            "  Clientes perdidos: 1\n",
            "  0 clientes: 0.2713\n",
            "  1 clientes: 0.1418\n",
            "  2 clientes: 0.0199\n",
            "  3 clientes: 0.0008\n",
            "\n",
            "Fila 2:\n",
            "  Clientes perdidos: 0\n",
            "  0 clientes: 0.2567\n",
            "  1 clientes: 0.1921\n",
            "  2 clientes: 0.0966\n",
            "  3 clientes: 0.0190\n",
            "  4 clientes: 0.0018\n",
            "  5 clientes: 0.0001\n",
            "\n"
          ]
        }
      ]
    },
    {
      "cell_type": "markdown",
      "source": [
        "Descrição:\n",
        "Fila 1 (G/G/2/3):\n",
        "\n",
        "Servidores: 2\n",
        "Capacidade: 3 clientes\n",
        "Chegadas: Intervalo entre 1 e 4 minutos\n",
        "Atendimento: Intervalo entre 3 e 4 minutos\n",
        "\n",
        "Fila 2 (G/G/1/5):\n",
        "\n",
        "Servidores: 1\n",
        "Capacidade: 5 clientes\n",
        "Atendimento: Intervalo entre 2 e 3 minutos\n",
        "Sem chegadas externas, recebe clientes da Fila 1."
      ],
      "metadata": {
        "id": "bzbeZekk4yib"
      }
    }
  ]
}